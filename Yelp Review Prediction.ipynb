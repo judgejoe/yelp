{
 "cells": [
  {
   "cell_type": "markdown",
   "metadata": {},
   "source": [
    "# Yelp star predictions using Spark\n",
    "This notebook implements linear regression to predict star rating based on information about the business in Yelp. It uses Spark (specifically pyspark) to read data, engineer features, create a pipeline, fit a model and evaluate it's performance. The data set used can be found here: https://www.yelp.com/dataset/"
   ]
  },
  {
   "cell_type": "code",
   "execution_count": 1,
   "metadata": {
    "collapsed": true
   },
   "outputs": [],
   "source": [
    "import pyspark as ps\n",
    "\n",
    "spark = ps.sql.SparkSession.builder \\\n",
    "            .appName(\"yelp-review\") \\\n",
    "            .getOrCreate()"
   ]
  },
  {
   "cell_type": "markdown",
   "metadata": {},
   "source": [
    "Read the JSON"
   ]
  },
  {
   "cell_type": "code",
   "execution_count": 2,
   "metadata": {
    "collapsed": true
   },
   "outputs": [],
   "source": [
    "rest_df = spark.read.json('data/restaurants/')"
   ]
  },
  {
   "cell_type": "code",
   "execution_count": 3,
   "metadata": {},
   "outputs": [
    {
     "name": "stdout",
     "output_type": "stream",
     "text": [
      "+--------------------+--------+--------------------+--------------------+-----------+--------+------------------+--------------+----------+-----------+-------------+------------+-----+-----+\n",
      "|Accepts Credit Cards| Alcohol|            Good For|             Parking|Price Range|Take-out|Takes Reservations|          city|  latitude|  longitude|neighborhoods|review_count|stars|state|\n",
      "+--------------------+--------+--------------------+--------------------+-----------+--------+------------------+--------------+----------+-----------+-------------+------------+-----+-----+\n",
      "|                true|full_bar|[false,false,fals...|[false,false,fals...|          1|    true|             false|      Braddock| 40.408735|-79.8663507|           []|          11|  4.5|   PA|\n",
      "|                true|full_bar|[false,false,fals...|[false,true,false...|          1|    true|             false|      Carnegie| 40.415517| -80.067534|  [Greentree]|          15|  4.0|   PA|\n",
      "|                true|    none|[false,false,fals...|[false,false,fals...|          1|    true|             false|      Carnegie|40.3877323|-80.0928745|           []|           8|  3.5|   PA|\n",
      "|                true|full_bar|[false,false,fals...|[false,false,fals...|          2|   false|             false|      Carnegie|40.3964688|-80.0849416|           []|           5|  4.0|   PA|\n",
      "|               false|    none|[true,false,false...|[false,true,false...|          1|    true|             false|      Carnegie|40.3967441|-80.0847998|           []|          38|  4.5|   PA|\n",
      "|                true|    none|[false,true,false...|[false,false,fals...|          1|    true|             false|      Carnegie| 40.404638| -80.089985|   [Carnegie]|           5|  4.0|   PA|\n",
      "|                true|full_bar|[false,false,fals...|[false,false,true...|          2|    true|             false|      Carnegie|  40.40867| -80.085279|   [Carnegie]|           6|  3.5|   PA|\n",
      "|                true|    none|[true,true,false,...|[false,false,fals...|          1|    true|             false|    Pittsburgh| 40.391255| -80.073426|           []|           7|  4.0|   PA|\n",
      "|                true|full_bar|[false,false,fals...|[false,true,true,...|          2|    true|              true|      Carnegie|40.4082572|-80.0854582|   [Carnegie]|          46|  3.5|   PA|\n",
      "|                true|    none|[false,false,fals...|[false,false,fals...|          1|    true|             false|     Homestead| 40.412086| -79.910032|  [Homestead]|           5|  2.0|   PA|\n",
      "|                true|    none|[false,false,fals...|[false,true,false...|          1|    true|             false|       Munhall| 40.413496|-79.9044562|  [Homestead]|          36|  2.0|   PA|\n",
      "|                true|full_bar|[false,false,fals...|[false,true,false...|          2|   false|              true|     Homestead|40.4094884|-79.9151108|  [Homestead]|          25|  3.5|   PA|\n",
      "|                true|full_bar|[false,false,fals...|[false,false,true...|          2|    true|             false|     Homestead| 40.405311| -79.912595|  [Homestead]|          16|  3.5|   PA|\n",
      "|                true|full_bar|[false,false,fals...|[false,true,false...|          2|    true|              true|     Homestead|40.4097113|-79.9140822|  [Homestead]|          52|  3.0|   PA|\n",
      "|                true|full_bar|[false,false,fals...|[false,true,false...|          2|    true|              true|     Homestead|40.4094884|-79.9151108|  [Homestead]|          94|  3.5|   PA|\n",
      "|                true|full_bar|[false,false,fals...|[false,true,false...|          2|    true|              true|West Homestead|40.4070709| -79.917508|  [Homestead]|          46|  2.5|   PA|\n",
      "|                true|    none|[false,false,fals...|[false,false,fals...|          1|    true|             false|       Munhall|40.3867759|-79.9028194|           []|           4|  2.5|   PA|\n",
      "|                true|full_bar|[false,false,fals...|[false,true,false...|          2|    true|             false|     Homestead| 40.410967|-79.9141364|  [Homestead]|          33|  3.0|   PA|\n",
      "|                true|full_bar|[false,false,fals...|[false,true,false...|          2|    true|              true|     Homestead|40.4071112|  -79.91615|  [Homestead]|          64|  3.0|   PA|\n",
      "|                true|    none|[true,true,false,...|[false,true,false...|          1|    true|             false|West Homestead| 40.407152|-79.9166162|  [Homestead]|          17|  3.0|   PA|\n",
      "+--------------------+--------+--------------------+--------------------+-----------+--------+------------------+--------------+----------+-----------+-------------+------------+-----+-----+\n",
      "only showing top 20 rows\n",
      "\n"
     ]
    }
   ],
   "source": [
    "rest_df.show()"
   ]
  },
  {
   "cell_type": "code",
   "execution_count": 4,
   "metadata": {},
   "outputs": [
    {
     "name": "stdout",
     "output_type": "stream",
     "text": [
      "root\n",
      " |-- Accepts Credit Cards: string (nullable = true)\n",
      " |-- Alcohol: string (nullable = true)\n",
      " |-- Good For: struct (nullable = true)\n",
      " |    |-- breakfast: boolean (nullable = true)\n",
      " |    |-- brunch: boolean (nullable = true)\n",
      " |    |-- dessert: boolean (nullable = true)\n",
      " |    |-- dinner: boolean (nullable = true)\n",
      " |    |-- latenight: boolean (nullable = true)\n",
      " |    |-- lunch: boolean (nullable = true)\n",
      " |-- Parking: struct (nullable = true)\n",
      " |    |-- garage: boolean (nullable = true)\n",
      " |    |-- lot: boolean (nullable = true)\n",
      " |    |-- street: boolean (nullable = true)\n",
      " |    |-- valet: boolean (nullable = true)\n",
      " |    |-- validated: boolean (nullable = true)\n",
      " |-- Price Range: long (nullable = true)\n",
      " |-- Take-out: boolean (nullable = true)\n",
      " |-- Takes Reservations: boolean (nullable = true)\n",
      " |-- city: string (nullable = true)\n",
      " |-- latitude: double (nullable = true)\n",
      " |-- longitude: double (nullable = true)\n",
      " |-- neighborhoods: array (nullable = true)\n",
      " |    |-- element: string (containsNull = true)\n",
      " |-- review_count: long (nullable = true)\n",
      " |-- stars: double (nullable = true)\n",
      " |-- state: string (nullable = true)\n",
      "\n"
     ]
    }
   ],
   "source": [
    "rest_df.printSchema()"
   ]
  },
  {
   "cell_type": "code",
   "execution_count": 5,
   "metadata": {
    "collapsed": true
   },
   "outputs": [],
   "source": [
    "from pyspark.ml.regression import LinearRegression\n",
    "from pyspark.ml import Pipeline"
   ]
  },
  {
   "cell_type": "code",
   "execution_count": 6,
   "metadata": {
    "collapsed": true
   },
   "outputs": [],
   "source": [
    "rest_df.createOrReplaceTempView(\"rest\")"
   ]
  },
  {
   "cell_type": "code",
   "execution_count": 7,
   "metadata": {},
   "outputs": [
    {
     "data": {
      "text/plain": [
       "['Accepts Credit Cards',\n",
       " 'Alcohol',\n",
       " 'Good For',\n",
       " 'Parking',\n",
       " 'Price Range',\n",
       " 'Take-out',\n",
       " 'Takes Reservations',\n",
       " 'city',\n",
       " 'latitude',\n",
       " 'longitude',\n",
       " 'neighborhoods',\n",
       " 'review_count',\n",
       " 'stars',\n",
       " 'state']"
      ]
     },
     "execution_count": 7,
     "metadata": {},
     "output_type": "execute_result"
    }
   ],
   "source": [
    "rest_df.columns"
   ]
  },
  {
   "cell_type": "code",
   "execution_count": 8,
   "metadata": {},
   "outputs": [
    {
     "name": "stdout",
     "output_type": "stream",
     "text": [
      "+--------------------+\n",
      "|Accepts Credit Cards|\n",
      "+--------------------+\n",
      "|               false|\n",
      "|                true|\n",
      "+--------------------+\n",
      "\n"
     ]
    }
   ],
   "source": [
    "res = spark.sql(\"select distinct `Accepts Credit Cards` from rest\")\n",
    "res.show()"
   ]
  },
  {
   "cell_type": "code",
   "execution_count": 9,
   "metadata": {
    "collapsed": true
   },
   "outputs": [],
   "source": [
    "from pyspark.sql import functions as F\n",
    "from pyspark.sql.types import ArrayType, DoubleType\n",
    "from pyspark.mllib.linalg import VectorUDT, Vectors"
   ]
  },
  {
   "cell_type": "code",
   "execution_count": 10,
   "metadata": {},
   "outputs": [
    {
     "data": {
      "text/plain": [
       "[('Accepts Credit Cards', 'string'),\n",
       " ('Alcohol', 'string'),\n",
       " ('Good For',\n",
       "  'struct<breakfast:boolean,brunch:boolean,dessert:boolean,dinner:boolean,latenight:boolean,lunch:boolean>'),\n",
       " ('Parking',\n",
       "  'struct<garage:boolean,lot:boolean,street:boolean,valet:boolean,validated:boolean>'),\n",
       " ('Price Range', 'bigint'),\n",
       " ('Take-out', 'boolean'),\n",
       " ('Takes Reservations', 'boolean'),\n",
       " ('city', 'string'),\n",
       " ('latitude', 'double'),\n",
       " ('longitude', 'double'),\n",
       " ('neighborhoods', 'array<string>'),\n",
       " ('review_count', 'bigint'),\n",
       " ('stars', 'double'),\n",
       " ('state', 'string')]"
      ]
     },
     "execution_count": 10,
     "metadata": {},
     "output_type": "execute_result"
    }
   ],
   "source": [
    "rest_df.dtypes"
   ]
  },
  {
   "cell_type": "code",
   "execution_count": 11,
   "metadata": {
    "collapsed": true
   },
   "outputs": [],
   "source": [
    "for col, dtype in rest_df.dtypes:\n",
    "    if dtype in ['boolean', 'bigint', 'long']:\n",
    "        rest_df = rest_df.withColumn(col, rest_df[col].cast('double'))"
   ]
  },
  {
   "cell_type": "code",
   "execution_count": 12,
   "metadata": {
    "collapsed": true
   },
   "outputs": [],
   "source": [
    "rest_df = rest_df.withColumn('Accepts Credit Cards', rest_df['Accepts Credit Cards'].cast('boolean').cast('double'))"
   ]
  },
  {
   "cell_type": "code",
   "execution_count": 13,
   "metadata": {},
   "outputs": [
    {
     "name": "stdout",
     "output_type": "stream",
     "text": [
      "+--------------------+--------+--------------------+--------------------+-----------+--------+------------------+--------------+----------+-----------+-------------+------------+-----+-----+\n",
      "|Accepts Credit Cards| Alcohol|            Good For|             Parking|Price Range|Take-out|Takes Reservations|          city|  latitude|  longitude|neighborhoods|review_count|stars|state|\n",
      "+--------------------+--------+--------------------+--------------------+-----------+--------+------------------+--------------+----------+-----------+-------------+------------+-----+-----+\n",
      "|                 1.0|full_bar|[false,false,fals...|[false,false,fals...|        1.0|     1.0|               0.0|      Braddock| 40.408735|-79.8663507|           []|        11.0|  4.5|   PA|\n",
      "|                 1.0|full_bar|[false,false,fals...|[false,true,false...|        1.0|     1.0|               0.0|      Carnegie| 40.415517| -80.067534|  [Greentree]|        15.0|  4.0|   PA|\n",
      "|                 1.0|    none|[false,false,fals...|[false,false,fals...|        1.0|     1.0|               0.0|      Carnegie|40.3877323|-80.0928745|           []|         8.0|  3.5|   PA|\n",
      "|                 1.0|full_bar|[false,false,fals...|[false,false,fals...|        2.0|     0.0|               0.0|      Carnegie|40.3964688|-80.0849416|           []|         5.0|  4.0|   PA|\n",
      "|                 0.0|    none|[true,false,false...|[false,true,false...|        1.0|     1.0|               0.0|      Carnegie|40.3967441|-80.0847998|           []|        38.0|  4.5|   PA|\n",
      "|                 1.0|    none|[false,true,false...|[false,false,fals...|        1.0|     1.0|               0.0|      Carnegie| 40.404638| -80.089985|   [Carnegie]|         5.0|  4.0|   PA|\n",
      "|                 1.0|full_bar|[false,false,fals...|[false,false,true...|        2.0|     1.0|               0.0|      Carnegie|  40.40867| -80.085279|   [Carnegie]|         6.0|  3.5|   PA|\n",
      "|                 1.0|    none|[true,true,false,...|[false,false,fals...|        1.0|     1.0|               0.0|    Pittsburgh| 40.391255| -80.073426|           []|         7.0|  4.0|   PA|\n",
      "|                 1.0|full_bar|[false,false,fals...|[false,true,true,...|        2.0|     1.0|               1.0|      Carnegie|40.4082572|-80.0854582|   [Carnegie]|        46.0|  3.5|   PA|\n",
      "|                 1.0|    none|[false,false,fals...|[false,false,fals...|        1.0|     1.0|               0.0|     Homestead| 40.412086| -79.910032|  [Homestead]|         5.0|  2.0|   PA|\n",
      "|                 1.0|    none|[false,false,fals...|[false,true,false...|        1.0|     1.0|               0.0|       Munhall| 40.413496|-79.9044562|  [Homestead]|        36.0|  2.0|   PA|\n",
      "|                 1.0|full_bar|[false,false,fals...|[false,true,false...|        2.0|     0.0|               1.0|     Homestead|40.4094884|-79.9151108|  [Homestead]|        25.0|  3.5|   PA|\n",
      "|                 1.0|full_bar|[false,false,fals...|[false,false,true...|        2.0|     1.0|               0.0|     Homestead| 40.405311| -79.912595|  [Homestead]|        16.0|  3.5|   PA|\n",
      "|                 1.0|full_bar|[false,false,fals...|[false,true,false...|        2.0|     1.0|               1.0|     Homestead|40.4097113|-79.9140822|  [Homestead]|        52.0|  3.0|   PA|\n",
      "|                 1.0|full_bar|[false,false,fals...|[false,true,false...|        2.0|     1.0|               1.0|     Homestead|40.4094884|-79.9151108|  [Homestead]|        94.0|  3.5|   PA|\n",
      "|                 1.0|full_bar|[false,false,fals...|[false,true,false...|        2.0|     1.0|               1.0|West Homestead|40.4070709| -79.917508|  [Homestead]|        46.0|  2.5|   PA|\n",
      "|                 1.0|    none|[false,false,fals...|[false,false,fals...|        1.0|     1.0|               0.0|       Munhall|40.3867759|-79.9028194|           []|         4.0|  2.5|   PA|\n",
      "|                 1.0|full_bar|[false,false,fals...|[false,true,false...|        2.0|     1.0|               0.0|     Homestead| 40.410967|-79.9141364|  [Homestead]|        33.0|  3.0|   PA|\n",
      "|                 1.0|full_bar|[false,false,fals...|[false,true,false...|        2.0|     1.0|               1.0|     Homestead|40.4071112|  -79.91615|  [Homestead]|        64.0|  3.0|   PA|\n",
      "|                 1.0|    none|[true,true,false,...|[false,true,false...|        1.0|     1.0|               0.0|West Homestead| 40.407152|-79.9166162|  [Homestead]|        17.0|  3.0|   PA|\n",
      "+--------------------+--------+--------------------+--------------------+-----------+--------+------------------+--------------+----------+-----------+-------------+------------+-----+-----+\n",
      "only showing top 20 rows\n",
      "\n"
     ]
    }
   ],
   "source": [
    "rest_df.show()"
   ]
  },
  {
   "cell_type": "code",
   "execution_count": 15,
   "metadata": {
    "collapsed": true
   },
   "outputs": [],
   "source": [
    "# fix boolean structs to be Vector Columns of 1s and 0s\n",
    "\n",
    "def ary_xform(ary):\n",
    "    return [float(int(x)) if x is not None else 0.0 for x in ary]\n",
    "\n",
    "udf_bool_ary = F.udf(ary_xform, ArrayType(DoubleType()))\n",
    "udf_ary_2_vec = F.udf(lambda x: Vectors.dense(x), VectorUDT())\n",
    "\n",
    "# e.g.\n",
    "rest_df = rest_df.withColumn('Parking', udf_bool_ary('Parking'))\n",
    "rest_df = rest_df.withColumn('Parking', udf_ary_2_vec('Parking'))"
   ]
  },
  {
   "cell_type": "code",
   "execution_count": 16,
   "metadata": {
    "collapsed": true
   },
   "outputs": [],
   "source": [
    "rest_df = rest_df.withColumn('Good For', udf_bool_ary('Good For'))\n",
    "rest_df = rest_df.withColumn('Good For', udf_ary_2_vec('Good For'))"
   ]
  },
  {
   "cell_type": "code",
   "execution_count": 17,
   "metadata": {
    "collapsed": true
   },
   "outputs": [],
   "source": [
    "rest_df = rest_df.withColumn('Good For', udf_bool_ary('Good For'))\n",
    "rest_df = rest_df.withColumn('Good For', udf_ary_2_vec('Good For'))"
   ]
  },
  {
   "cell_type": "code",
   "execution_count": 18,
   "metadata": {},
   "outputs": [
    {
     "name": "stdout",
     "output_type": "stream",
     "text": [
      "+--------------------+--------+--------------------+--------------------+-----------+--------+------------------+--------------+----------+-----------+-------------+------------+-----+-----+\n",
      "|Accepts Credit Cards| Alcohol|            Good For|             Parking|Price Range|Take-out|Takes Reservations|          city|  latitude|  longitude|neighborhoods|review_count|stars|state|\n",
      "+--------------------+--------+--------------------+--------------------+-----------+--------+------------------+--------------+----------+-----------+-------------+------------+-----+-----+\n",
      "|                 1.0|full_bar|[0.0,0.0,0.0,0.0,...|[0.0,0.0,0.0,0.0,...|        1.0|     1.0|               0.0|      Braddock| 40.408735|-79.8663507|           []|        11.0|  4.5|   PA|\n",
      "|                 1.0|full_bar|[0.0,0.0,0.0,1.0,...|[0.0,1.0,0.0,0.0,...|        1.0|     1.0|               0.0|      Carnegie| 40.415517| -80.067534|  [Greentree]|        15.0|  4.0|   PA|\n",
      "|                 1.0|    none|[0.0,0.0,0.0,0.0,...|[0.0,0.0,0.0,0.0,...|        1.0|     1.0|               0.0|      Carnegie|40.3877323|-80.0928745|           []|         8.0|  3.5|   PA|\n",
      "|                 1.0|full_bar|[0.0,0.0,0.0,0.0,...|[0.0,0.0,0.0,0.0,...|        2.0|     0.0|               0.0|      Carnegie|40.3964688|-80.0849416|           []|         5.0|  4.0|   PA|\n",
      "|                 0.0|    none|[1.0,0.0,0.0,0.0,...|[0.0,1.0,0.0,0.0,...|        1.0|     1.0|               0.0|      Carnegie|40.3967441|-80.0847998|           []|        38.0|  4.5|   PA|\n",
      "|                 1.0|    none|[0.0,1.0,0.0,0.0,...|[0.0,0.0,0.0,0.0,...|        1.0|     1.0|               0.0|      Carnegie| 40.404638| -80.089985|   [Carnegie]|         5.0|  4.0|   PA|\n",
      "|                 1.0|full_bar|[0.0,0.0,0.0,1.0,...|[0.0,0.0,1.0,0.0,...|        2.0|     1.0|               0.0|      Carnegie|  40.40867| -80.085279|   [Carnegie]|         6.0|  3.5|   PA|\n",
      "|                 1.0|    none|[1.0,1.0,0.0,0.0,...|[0.0,0.0,0.0,0.0,...|        1.0|     1.0|               0.0|    Pittsburgh| 40.391255| -80.073426|           []|         7.0|  4.0|   PA|\n",
      "|                 1.0|full_bar|[0.0,0.0,0.0,1.0,...|[0.0,1.0,1.0,0.0,...|        2.0|     1.0|               1.0|      Carnegie|40.4082572|-80.0854582|   [Carnegie]|        46.0|  3.5|   PA|\n",
      "|                 1.0|    none|[0.0,0.0,0.0,0.0,...|[0.0,0.0,0.0,0.0,...|        1.0|     1.0|               0.0|     Homestead| 40.412086| -79.910032|  [Homestead]|         5.0|  2.0|   PA|\n",
      "|                 1.0|    none|[0.0,0.0,0.0,0.0,...|[0.0,1.0,0.0,0.0,...|        1.0|     1.0|               0.0|       Munhall| 40.413496|-79.9044562|  [Homestead]|        36.0|  2.0|   PA|\n",
      "|                 1.0|full_bar|[0.0,0.0,0.0,0.0,...|[0.0,1.0,0.0,0.0,...|        2.0|     0.0|               1.0|     Homestead|40.4094884|-79.9151108|  [Homestead]|        25.0|  3.5|   PA|\n",
      "|                 1.0|full_bar|[0.0,0.0,0.0,0.0,...|[0.0,0.0,1.0,0.0,...|        2.0|     1.0|               0.0|     Homestead| 40.405311| -79.912595|  [Homestead]|        16.0|  3.5|   PA|\n",
      "|                 1.0|full_bar|[0.0,0.0,0.0,0.0,...|[0.0,1.0,0.0,0.0,...|        2.0|     1.0|               1.0|     Homestead|40.4097113|-79.9140822|  [Homestead]|        52.0|  3.0|   PA|\n",
      "|                 1.0|full_bar|[0.0,0.0,0.0,1.0,...|[0.0,1.0,0.0,0.0,...|        2.0|     1.0|               1.0|     Homestead|40.4094884|-79.9151108|  [Homestead]|        94.0|  3.5|   PA|\n",
      "|                 1.0|full_bar|[0.0,0.0,0.0,1.0,...|[0.0,1.0,0.0,0.0,...|        2.0|     1.0|               1.0|West Homestead|40.4070709| -79.917508|  [Homestead]|        46.0|  2.5|   PA|\n",
      "|                 1.0|    none|[0.0,0.0,0.0,0.0,...|[0.0,0.0,0.0,0.0,...|        1.0|     1.0|               0.0|       Munhall|40.3867759|-79.9028194|           []|         4.0|  2.5|   PA|\n",
      "|                 1.0|full_bar|[0.0,0.0,0.0,1.0,...|[0.0,1.0,0.0,0.0,...|        2.0|     1.0|               0.0|     Homestead| 40.410967|-79.9141364|  [Homestead]|        33.0|  3.0|   PA|\n",
      "|                 1.0|full_bar|[0.0,0.0,0.0,1.0,...|[0.0,1.0,0.0,0.0,...|        2.0|     1.0|               1.0|     Homestead|40.4071112|  -79.91615|  [Homestead]|        64.0|  3.0|   PA|\n",
      "|                 1.0|    none|[1.0,1.0,0.0,0.0,...|[0.0,1.0,0.0,0.0,...|        1.0|     1.0|               0.0|West Homestead| 40.407152|-79.9166162|  [Homestead]|        17.0|  3.0|   PA|\n",
      "+--------------------+--------+--------------------+--------------------+-----------+--------+------------------+--------------+----------+-----------+-------------+------------+-----+-----+\n",
      "only showing top 20 rows\n",
      "\n"
     ]
    }
   ],
   "source": [
    "rest_df.show()"
   ]
  },
  {
   "cell_type": "code",
   "execution_count": 19,
   "metadata": {
    "collapsed": true
   },
   "outputs": [],
   "source": [
    "train, test = rest_df.randomSplit([7.0,3.0])"
   ]
  },
  {
   "cell_type": "code",
   "execution_count": 20,
   "metadata": {},
   "outputs": [
    {
     "name": "stdout",
     "output_type": "stream",
     "text": [
      "+--------------------+-------------+--------------------+--------------------+-----------+--------+------------------+------------+----------+-----------+-------------+------------+-----+-----+\n",
      "|Accepts Credit Cards|      Alcohol|            Good For|             Parking|Price Range|Take-out|Takes Reservations|        city|  latitude|  longitude|neighborhoods|review_count|stars|state|\n",
      "+--------------------+-------------+--------------------+--------------------+-----------+--------+------------------+------------+----------+-----------+-------------+------------+-----+-----+\n",
      "|                 0.0|beer_and_wine|[0.0,0.0,0.0,0.0,...|[0.0,0.0,0.0,0.0,...|        1.0|     1.0|               0.0|   Ettlingen|   48.9535|    8.38004|           []|         3.0|  3.5|   BW|\n",
      "|                 0.0|beer_and_wine|[0.0,0.0,0.0,0.0,...|[0.0,0.0,0.0,0.0,...|        1.0|     1.0|               0.0|   Karlsruhe|   49.0018|     8.3939|           []|         6.0|  4.5|   BW|\n",
      "|                 0.0|beer_and_wine|[0.0,0.0,0.0,0.0,...|[0.0,0.0,0.0,0.0,...|        1.0|     1.0|               0.0|   Karlsruhe| 49.009264|  8.4073135|           []|        21.0|  3.5|   BW|\n",
      "|                 0.0|beer_and_wine|[0.0,0.0,0.0,0.0,...|[0.0,0.0,0.0,0.0,...|        1.0|     1.0|               0.0|   Las Vegas| 36.196696|-115.053217|    [Sunrise]|         4.0|  4.0|   NV|\n",
      "|                 0.0|beer_and_wine|[0.0,0.0,0.0,0.0,...|[0.0,0.0,0.0,0.0,...|        1.0|     1.0|               0.0|    Montréal|45.5467628|-73.5436847|           []|         3.0|  4.5|   QC|\n",
      "|                 0.0|beer_and_wine|[0.0,0.0,0.0,0.0,...|[0.0,0.0,0.0,0.0,...|        1.0|     1.0|               1.0|   Karlsruhe|   49.0113|    8.35909|           []|         5.0|  4.5|   BW|\n",
      "|                 0.0|beer_and_wine|[0.0,0.0,0.0,0.0,...|[0.0,0.0,0.0,0.0,...|        1.0|     1.0|               1.0|  Weingarten|49.0912345|  8.5093314|           []|         7.0|  4.5|   BW|\n",
      "|                 0.0|beer_and_wine|[0.0,0.0,0.0,0.0,...|[0.0,0.0,0.0,0.0,...|        2.0|     0.0|               1.0|    Karlsbad|48.9168511|  8.5057262|           []|         5.0|  4.0|   BW|\n",
      "|                 0.0|beer_and_wine|[0.0,0.0,0.0,0.0,...|[0.0,0.0,0.0,0.0,...|        2.0|     0.0|               1.0|   Karlsruhe|  48.96559|    8.47645|           []|         3.0|  3.5|   BW|\n",
      "|                 0.0|beer_and_wine|[0.0,0.0,0.0,0.0,...|[0.0,0.0,0.0,0.0,...|        2.0|     0.0|               1.0|   Karlsruhe|    49.004|    8.40409|           []|        15.0|  3.5|   BW|\n",
      "|                 0.0|beer_and_wine|[0.0,0.0,0.0,0.0,...|[0.0,0.0,0.0,0.0,...|        2.0|     0.0|               1.0|   Karlsruhe|49.0055627|  8.3850415|           []|        11.0|  3.0|   BW|\n",
      "|                 0.0|beer_and_wine|[0.0,0.0,0.0,0.0,...|[0.0,0.0,0.0,0.0,...|        2.0|     0.0|               1.0|   Karlsruhe|   49.0123|    8.35791|           []|        21.0|  4.0|   BW|\n",
      "|                 0.0|beer_and_wine|[0.0,0.0,0.0,0.0,...|[0.0,0.0,0.0,0.0,...|        2.0|     0.0|               1.0|    Montréal|45.5630874|-73.6056541|           []|         3.0|  3.5|   QC|\n",
      "|                 0.0|beer_and_wine|[0.0,0.0,0.0,0.0,...|[0.0,0.0,0.0,0.0,...|        2.0|     0.0|               1.0|      Verdun|45.4581998|-73.5674502|           []|         4.0|  3.5|   QC|\n",
      "|                 0.0|beer_and_wine|[0.0,0.0,0.0,0.0,...|[0.0,0.0,0.0,0.0,...|        2.0|     1.0|               0.0|   Karlsruhe|   49.0084|    8.42079|           []|        17.0|  3.5|   BW|\n",
      "|                 0.0|beer_and_wine|[0.0,0.0,0.0,0.0,...|[0.0,0.0,0.0,0.0,...|        2.0|     1.0|               0.0|   Karlsruhe|49.0099839|  8.3969286|           []|        25.0|  4.5|   BW|\n",
      "|                 0.0|beer_and_wine|[0.0,0.0,0.0,0.0,...|[0.0,0.0,0.0,0.0,...|        2.0|     1.0|               0.0|   Karlsruhe|   49.0106|    8.42177|           []|         3.0|  4.0|   BW|\n",
      "|                 0.0|beer_and_wine|[0.0,0.0,0.0,0.0,...|[0.0,0.0,0.0,0.0,...|        2.0|     1.0|               0.0|    Pfinztal|   49.0074|    8.53064|           []|         7.0|  4.5|   BW|\n",
      "|                 0.0|beer_and_wine|[0.0,0.0,0.0,0.0,...|[0.0,0.0,0.0,0.0,...|        2.0|     1.0|               1.0|   Karlsruhe|   48.9931|    8.46144|           []|         8.0|  4.0|   BW|\n",
      "|                 0.0|beer_and_wine|[0.0,0.0,0.0,0.0,...|[0.0,0.0,0.0,0.0,...|        2.0|     1.0|               1.0|Rheinstetten| 48.965887|  8.3410161|           []|         3.0|  3.5|   BW|\n",
      "+--------------------+-------------+--------------------+--------------------+-----------+--------+------------------+------------+----------+-----------+-------------+------------+-----+-----+\n",
      "only showing top 20 rows\n",
      "\n"
     ]
    }
   ],
   "source": [
    "train.show()"
   ]
  },
  {
   "cell_type": "code",
   "execution_count": 21,
   "metadata": {
    "collapsed": true
   },
   "outputs": [],
   "source": [
    "from pyspark.ml.feature import StringIndexer\n",
    "\n",
    "alc_indexer = StringIndexer(inputCol=\"Alcohol\", outputCol=\"alcoholIndex\")\n",
    "state_indexer = StringIndexer(inputCol=\"state\", outputCol=\"stateIndex\")\n",
    "city_indexer = StringIndexer(inputCol=\"city\", outputCol=\"cityIndex\")\n"
   ]
  },
  {
   "cell_type": "code",
   "execution_count": 22,
   "metadata": {
    "collapsed": true
   },
   "outputs": [],
   "source": [
    "from pyspark.ml.feature import OneHotEncoder\n",
    "\n",
    "alc_ohe = OneHotEncoder(inputCol=\"alcoholIndex\", outputCol=\"alc_ohe\")\n",
    "state_ohe = OneHotEncoder(inputCol=\"stateIndex\", outputCol=\"state_ohe\")\n",
    "city_ohe = OneHotEncoder(inputCol=\"cityIndex\", outputCol=\"city_ohe\")\n",
    "price_ohe = OneHotEncoder(inputCol=\"Price Range\", outputCol=\"price_ohe\")\n"
   ]
  },
  {
   "cell_type": "code",
   "execution_count": 23,
   "metadata": {
    "collapsed": true
   },
   "outputs": [],
   "source": [
    "from pyspark.ml.feature import CountVectorizer\n",
    "\n",
    "neighborhod_cv = CountVectorizer(inputCol='neighborhoods', outputCol='neighborhoods_cv')"
   ]
  },
  {
   "cell_type": "code",
   "execution_count": 24,
   "metadata": {
    "collapsed": true
   },
   "outputs": [],
   "source": [
    "from pyspark.ml.feature import VectorAssembler\n",
    "\n",
    "assembler = VectorAssembler(\n",
    "    inputCols=[\"alcoholIndex\", \"stateIndex\", \"cityIndex\", \"alc_ohe\", \"state_ohe\",\"city_ohe\",\"neighborhoods_cv\",\"price_ohe\",\"review_count\",\"latitude\",\"longitude\"],\n",
    "    outputCol=\"features\")\n",
    "\n"
   ]
  },
  {
   "cell_type": "code",
   "execution_count": 25,
   "metadata": {
    "collapsed": true
   },
   "outputs": [],
   "source": [
    "lr = LinearRegression(maxIter=5, labelCol=\"stars\", featuresCol=\"features\", predictionCol=\"prediction\")"
   ]
  },
  {
   "cell_type": "code",
   "execution_count": 26,
   "metadata": {
    "collapsed": true
   },
   "outputs": [],
   "source": [
    "pipeline = Pipeline(stages=[alc_indexer, state_indexer, city_indexer,alc_ohe,state_ohe,city_ohe,price_ohe,neighborhod_cv,assembler,lr])\n"
   ]
  },
  {
   "cell_type": "code",
   "execution_count": 27,
   "metadata": {
    "collapsed": true
   },
   "outputs": [],
   "source": [
    "m = pipeline.fit(train)"
   ]
  },
  {
   "cell_type": "code",
   "execution_count": 28,
   "metadata": {},
   "outputs": [
    {
     "name": "stdout",
     "output_type": "stream",
     "text": [
      "+--------------------+-------------+--------------------+--------------------+-----------+--------+------------------+------------+----------+-----------+-------------+------------+-----+-----+------------+----------+---------+---------+--------------+-----------------+-------------+----------------+--------------------+------------------+\n",
      "|Accepts Credit Cards|      Alcohol|            Good For|             Parking|Price Range|Take-out|Takes Reservations|        city|  latitude|  longitude|neighborhoods|review_count|stars|state|alcoholIndex|stateIndex|cityIndex|  alc_ohe|     state_ohe|         city_ohe|    price_ohe|neighborhoods_cv|            features|        prediction|\n",
      "+--------------------+-------------+--------------------+--------------------+-----------+--------+------------------+------------+----------+-----------+-------------+------------+-----+-----+------------+----------+---------+---------+--------------+-----------------+-------------+----------------+--------------------+------------------+\n",
      "|                 0.0|beer_and_wine|[0.0,0.0,0.0,0.0,...|[0.0,0.0,0.0,0.0,...|        1.0|     1.0|               0.0|   Ettlingen|   48.9535|    8.38004|           []|         3.0|  3.5|   BW|         2.0|       8.0|     71.0|(2,[],[])|(12,[8],[1.0])| (167,[71],[1.0])|(4,[1],[1.0])|     (141,[],[])|(332,[0,1,2,13,88...| 3.516216443365105|\n",
      "|                 0.0|beer_and_wine|[0.0,0.0,0.0,0.0,...|[0.0,0.0,0.0,0.0,...|        1.0|     1.0|               0.0|   Karlsruhe|   49.0018|     8.3939|           []|         6.0|  4.5|   BW|         2.0|       8.0|     18.0|(2,[],[])|(12,[8],[1.0])| (167,[18],[1.0])|(4,[1],[1.0])|     (141,[],[])|(332,[0,1,2,13,35...|3.7051156298527137|\n",
      "|                 0.0|beer_and_wine|[0.0,0.0,0.0,0.0,...|[0.0,0.0,0.0,0.0,...|        1.0|     1.0|               0.0|   Karlsruhe| 49.009264|  8.4073135|           []|        21.0|  3.5|   BW|         2.0|       8.0|     18.0|(2,[],[])|(12,[8],[1.0])| (167,[18],[1.0])|(4,[1],[1.0])|     (141,[],[])|(332,[0,1,2,13,35...|  3.71938114012333|\n",
      "|                 0.0|beer_and_wine|[0.0,0.0,0.0,0.0,...|[0.0,0.0,0.0,0.0,...|        1.0|     1.0|               0.0|   Las Vegas| 36.196696|-115.053217|    [Sunrise]|         4.0|  4.0|   NV|         2.0|       1.0|      0.0|(2,[],[])|(12,[1],[1.0])|  (167,[0],[1.0])|(4,[1],[1.0])|(141,[22],[1.0])|(332,[0,1,6,17,20...| 3.722512804536359|\n",
      "|                 0.0|beer_and_wine|[0.0,0.0,0.0,0.0,...|[0.0,0.0,0.0,0.0,...|        1.0|     1.0|               0.0|    Montréal|45.5467628|-73.5436847|           []|         3.0|  4.5|   QC|         2.0|       3.0|      5.0|(2,[],[])|(12,[3],[1.0])|  (167,[5],[1.0])|(4,[1],[1.0])|     (141,[],[])|(332,[0,1,2,8,22,...|3.8408602784047945|\n",
      "|                 0.0|beer_and_wine|[0.0,0.0,0.0,0.0,...|[0.0,0.0,0.0,0.0,...|        1.0|     1.0|               1.0|   Karlsruhe|   49.0113|    8.35909|           []|         5.0|  4.5|   BW|         2.0|       8.0|     18.0|(2,[],[])|(12,[8],[1.0])| (167,[18],[1.0])|(4,[1],[1.0])|     (141,[],[])|(332,[0,1,2,13,35...| 3.704172947951579|\n",
      "|                 0.0|beer_and_wine|[0.0,0.0,0.0,0.0,...|[0.0,0.0,0.0,0.0,...|        1.0|     1.0|               1.0|  Weingarten|49.0912345|  8.5093314|           []|         7.0|  4.5|   BW|         2.0|       8.0|    114.0|(2,[],[])|(12,[8],[1.0])|(167,[114],[1.0])|(4,[1],[1.0])|     (141,[],[])|(332,[0,1,2,13,13...| 4.199683405169092|\n",
      "|                 0.0|beer_and_wine|[0.0,0.0,0.0,0.0,...|[0.0,0.0,0.0,0.0,...|        2.0|     0.0|               1.0|    Karlsbad|48.9168511|  8.5057262|           []|         5.0|  4.0|   BW|         2.0|       8.0|    154.0|(2,[],[])|(12,[8],[1.0])|(167,[154],[1.0])|(4,[2],[1.0])|     (141,[],[])|(332,[0,1,2,13,17...| 4.011803278236549|\n",
      "|                 0.0|beer_and_wine|[0.0,0.0,0.0,0.0,...|[0.0,0.0,0.0,0.0,...|        2.0|     0.0|               1.0|   Karlsruhe|  48.96559|    8.47645|           []|         3.0|  3.5|   BW|         2.0|       8.0|     18.0|(2,[],[])|(12,[8],[1.0])| (167,[18],[1.0])|(4,[2],[1.0])|     (141,[],[])|(332,[0,1,2,13,35...|3.6378108496752977|\n",
      "|                 0.0|beer_and_wine|[0.0,0.0,0.0,0.0,...|[0.0,0.0,0.0,0.0,...|        2.0|     0.0|               1.0|   Karlsruhe|    49.004|    8.40409|           []|        15.0|  3.5|   BW|         2.0|       8.0|     18.0|(2,[],[])|(12,[8],[1.0])| (167,[18],[1.0])|(4,[2],[1.0])|     (141,[],[])|(332,[0,1,2,13,35...| 3.649270576047784|\n",
      "|                 0.0|beer_and_wine|[0.0,0.0,0.0,0.0,...|[0.0,0.0,0.0,0.0,...|        2.0|     0.0|               1.0|   Karlsruhe|49.0055627|  8.3850415|           []|        11.0|  3.0|   BW|         2.0|       8.0|     18.0|(2,[],[])|(12,[8],[1.0])| (167,[18],[1.0])|(4,[2],[1.0])|     (141,[],[])|(332,[0,1,2,13,35...|3.6454668443928755|\n",
      "|                 0.0|beer_and_wine|[0.0,0.0,0.0,0.0,...|[0.0,0.0,0.0,0.0,...|        2.0|     0.0|               1.0|   Karlsruhe|   49.0123|    8.35791|           []|        21.0|  4.0|   BW|         2.0|       8.0|     18.0|(2,[],[])|(12,[8],[1.0])| (167,[18],[1.0])|(4,[2],[1.0])|     (141,[],[])|(332,[0,1,2,13,35...|3.6549560788905935|\n",
      "|                 0.0|beer_and_wine|[0.0,0.0,0.0,0.0,...|[0.0,0.0,0.0,0.0,...|        2.0|     0.0|               1.0|    Montréal|45.5630874|-73.6056541|           []|         3.0|  3.5|   QC|         2.0|       3.0|      5.0|(2,[],[])|(12,[3],[1.0])|  (167,[5],[1.0])|(4,[2],[1.0])|     (141,[],[])|(332,[0,1,2,8,22,...|3.7764707075212023|\n",
      "|                 0.0|beer_and_wine|[0.0,0.0,0.0,0.0,...|[0.0,0.0,0.0,0.0,...|        2.0|     0.0|               1.0|      Verdun|45.4581998|-73.5674502|           []|         4.0|  3.5|   QC|         2.0|       3.0|     38.0|(2,[],[])|(12,[3],[1.0])| (167,[38],[1.0])|(4,[2],[1.0])|     (141,[],[])|(332,[0,1,2,8,55,...| 3.750006647088207|\n",
      "|                 0.0|beer_and_wine|[0.0,0.0,0.0,0.0,...|[0.0,0.0,0.0,0.0,...|        2.0|     1.0|               0.0|   Karlsruhe|   49.0084|    8.42079|           []|        17.0|  3.5|   BW|         2.0|       8.0|     18.0|(2,[],[])|(12,[8],[1.0])| (167,[18],[1.0])|(4,[2],[1.0])|     (141,[],[])|(332,[0,1,2,13,35...| 3.651195337576813|\n",
      "|                 0.0|beer_and_wine|[0.0,0.0,0.0,0.0,...|[0.0,0.0,0.0,0.0,...|        2.0|     1.0|               0.0|   Karlsruhe|49.0099839|  8.3969286|           []|        25.0|  4.5|   BW|         2.0|       8.0|     18.0|(2,[],[])|(12,[8],[1.0])| (167,[18],[1.0])|(4,[2],[1.0])|     (141,[],[])|(332,[0,1,2,13,35...|3.6587722435761996|\n",
      "|                 0.0|beer_and_wine|[0.0,0.0,0.0,0.0,...|[0.0,0.0,0.0,0.0,...|        2.0|     1.0|               0.0|   Karlsruhe|   49.0106|    8.42177|           []|         3.0|  4.0|   BW|         2.0|       8.0|     18.0|(2,[],[])|(12,[8],[1.0])| (167,[18],[1.0])|(4,[2],[1.0])|     (141,[],[])|(332,[0,1,2,13,35...| 3.637921969924297|\n",
      "|                 0.0|beer_and_wine|[0.0,0.0,0.0,0.0,...|[0.0,0.0,0.0,0.0,...|        2.0|     1.0|               0.0|    Pfinztal|   49.0074|    8.53064|           []|         7.0|  4.5|   BW|         2.0|       8.0|     78.0|(2,[],[])|(12,[8],[1.0])| (167,[78],[1.0])|(4,[2],[1.0])|     (141,[],[])|(332,[0,1,2,13,95...|3.7617148879674094|\n",
      "|                 0.0|beer_and_wine|[0.0,0.0,0.0,0.0,...|[0.0,0.0,0.0,0.0,...|        2.0|     1.0|               1.0|   Karlsruhe|   48.9931|    8.46144|           []|         8.0|  4.0|   BW|         2.0|       8.0|     18.0|(2,[],[])|(12,[8],[1.0])| (167,[18],[1.0])|(4,[2],[1.0])|     (141,[],[])|(332,[0,1,2,13,35...| 3.642635982358218|\n",
      "|                 0.0|beer_and_wine|[0.0,0.0,0.0,0.0,...|[0.0,0.0,0.0,0.0,...|        2.0|     1.0|               1.0|Rheinstetten| 48.965887|  8.3410161|           []|         3.0|  3.5|   BW|         2.0|       8.0|    103.0|(2,[],[])|(12,[8],[1.0])|(167,[103],[1.0])|(4,[2],[1.0])|     (141,[],[])|(332,[0,1,2,13,12...| 3.655143897483886|\n",
      "+--------------------+-------------+--------------------+--------------------+-----------+--------+------------------+------------+----------+-----------+-------------+------------+-----+-----+------------+----------+---------+---------+--------------+-----------------+-------------+----------------+--------------------+------------------+\n",
      "only showing top 20 rows\n",
      "\n"
     ]
    }
   ],
   "source": [
    "t = m.transform(train)\n",
    "t.show()"
   ]
  },
  {
   "cell_type": "code",
   "execution_count": 29,
   "metadata": {},
   "outputs": [
    {
     "name": "stdout",
     "output_type": "stream",
     "text": [
      "+--------------------+--------+--------------------+--------------------+-----------+--------+------------------+--------------+----------+-----------+-------------+------------+-----+-----+\n",
      "|Accepts Credit Cards| Alcohol|            Good For|             Parking|Price Range|Take-out|Takes Reservations|          city|  latitude|  longitude|neighborhoods|review_count|stars|state|\n",
      "+--------------------+--------+--------------------+--------------------+-----------+--------+------------------+--------------+----------+-----------+-------------+------------+-----+-----+\n",
      "|                 1.0|full_bar|[0.0,0.0,0.0,0.0,...|[0.0,0.0,0.0,0.0,...|        1.0|     1.0|               0.0|      Braddock| 40.408735|-79.8663507|           []|        11.0|  4.5|   PA|\n",
      "|                 1.0|full_bar|[0.0,0.0,0.0,1.0,...|[0.0,1.0,0.0,0.0,...|        1.0|     1.0|               0.0|      Carnegie| 40.415517| -80.067534|  [Greentree]|        15.0|  4.0|   PA|\n",
      "|                 1.0|    none|[0.0,0.0,0.0,0.0,...|[0.0,0.0,0.0,0.0,...|        1.0|     1.0|               0.0|      Carnegie|40.3877323|-80.0928745|           []|         8.0|  3.5|   PA|\n",
      "|                 1.0|full_bar|[0.0,0.0,0.0,0.0,...|[0.0,0.0,0.0,0.0,...|        2.0|     0.0|               0.0|      Carnegie|40.3964688|-80.0849416|           []|         5.0|  4.0|   PA|\n",
      "|                 0.0|    none|[1.0,0.0,0.0,0.0,...|[0.0,1.0,0.0,0.0,...|        1.0|     1.0|               0.0|      Carnegie|40.3967441|-80.0847998|           []|        38.0|  4.5|   PA|\n",
      "|                 1.0|    none|[0.0,1.0,0.0,0.0,...|[0.0,0.0,0.0,0.0,...|        1.0|     1.0|               0.0|      Carnegie| 40.404638| -80.089985|   [Carnegie]|         5.0|  4.0|   PA|\n",
      "|                 1.0|full_bar|[0.0,0.0,0.0,1.0,...|[0.0,0.0,1.0,0.0,...|        2.0|     1.0|               0.0|      Carnegie|  40.40867| -80.085279|   [Carnegie]|         6.0|  3.5|   PA|\n",
      "|                 1.0|    none|[1.0,1.0,0.0,0.0,...|[0.0,0.0,0.0,0.0,...|        1.0|     1.0|               0.0|    Pittsburgh| 40.391255| -80.073426|           []|         7.0|  4.0|   PA|\n",
      "|                 1.0|full_bar|[0.0,0.0,0.0,1.0,...|[0.0,1.0,1.0,0.0,...|        2.0|     1.0|               1.0|      Carnegie|40.4082572|-80.0854582|   [Carnegie]|        46.0|  3.5|   PA|\n",
      "|                 1.0|    none|[0.0,0.0,0.0,0.0,...|[0.0,0.0,0.0,0.0,...|        1.0|     1.0|               0.0|     Homestead| 40.412086| -79.910032|  [Homestead]|         5.0|  2.0|   PA|\n",
      "|                 1.0|    none|[0.0,0.0,0.0,0.0,...|[0.0,1.0,0.0,0.0,...|        1.0|     1.0|               0.0|       Munhall| 40.413496|-79.9044562|  [Homestead]|        36.0|  2.0|   PA|\n",
      "|                 1.0|full_bar|[0.0,0.0,0.0,0.0,...|[0.0,1.0,0.0,0.0,...|        2.0|     0.0|               1.0|     Homestead|40.4094884|-79.9151108|  [Homestead]|        25.0|  3.5|   PA|\n",
      "|                 1.0|full_bar|[0.0,0.0,0.0,0.0,...|[0.0,0.0,1.0,0.0,...|        2.0|     1.0|               0.0|     Homestead| 40.405311| -79.912595|  [Homestead]|        16.0|  3.5|   PA|\n",
      "|                 1.0|full_bar|[0.0,0.0,0.0,0.0,...|[0.0,1.0,0.0,0.0,...|        2.0|     1.0|               1.0|     Homestead|40.4097113|-79.9140822|  [Homestead]|        52.0|  3.0|   PA|\n",
      "|                 1.0|full_bar|[0.0,0.0,0.0,1.0,...|[0.0,1.0,0.0,0.0,...|        2.0|     1.0|               1.0|     Homestead|40.4094884|-79.9151108|  [Homestead]|        94.0|  3.5|   PA|\n",
      "|                 1.0|full_bar|[0.0,0.0,0.0,1.0,...|[0.0,1.0,0.0,0.0,...|        2.0|     1.0|               1.0|West Homestead|40.4070709| -79.917508|  [Homestead]|        46.0|  2.5|   PA|\n",
      "|                 1.0|    none|[0.0,0.0,0.0,0.0,...|[0.0,0.0,0.0,0.0,...|        1.0|     1.0|               0.0|       Munhall|40.3867759|-79.9028194|           []|         4.0|  2.5|   PA|\n",
      "|                 1.0|full_bar|[0.0,0.0,0.0,1.0,...|[0.0,1.0,0.0,0.0,...|        2.0|     1.0|               0.0|     Homestead| 40.410967|-79.9141364|  [Homestead]|        33.0|  3.0|   PA|\n",
      "|                 1.0|full_bar|[0.0,0.0,0.0,1.0,...|[0.0,1.0,0.0,0.0,...|        2.0|     1.0|               1.0|     Homestead|40.4071112|  -79.91615|  [Homestead]|        64.0|  3.0|   PA|\n",
      "|                 1.0|    none|[1.0,1.0,0.0,0.0,...|[0.0,1.0,0.0,0.0,...|        1.0|     1.0|               0.0|West Homestead| 40.407152|-79.9166162|  [Homestead]|        17.0|  3.0|   PA|\n",
      "+--------------------+--------+--------------------+--------------------+-----------+--------+------------------+--------------+----------+-----------+-------------+------------+-----+-----+\n",
      "only showing top 20 rows\n",
      "\n"
     ]
    }
   ],
   "source": [
    "rest_df.show()"
   ]
  },
  {
   "cell_type": "code",
   "execution_count": 30,
   "metadata": {
    "collapsed": true
   },
   "outputs": [],
   "source": [
    "from pyspark.ml.evaluation import RegressionEvaluator"
   ]
  },
  {
   "cell_type": "code",
   "execution_count": 31,
   "metadata": {
    "collapsed": true
   },
   "outputs": [],
   "source": [
    "evaluator = RegressionEvaluator(predictionCol=\"prediction\", labelCol=\"stars\", metricName=\"rmse\")"
   ]
  },
  {
   "cell_type": "code",
   "execution_count": 32,
   "metadata": {},
   "outputs": [
    {
     "data": {
      "text/plain": [
       "0.6009113789014233"
      ]
     },
     "execution_count": 32,
     "metadata": {},
     "output_type": "execute_result"
    }
   ],
   "source": [
    "m = pipeline.fit(test)\n",
    "evaluator.evaluate(m.transform(test))"
   ]
  },
  {
   "cell_type": "code",
   "execution_count": 33,
   "metadata": {},
   "outputs": [
    {
     "data": {
      "text/plain": [
       "0.615426212198504"
      ]
     },
     "execution_count": 33,
     "metadata": {},
     "output_type": "execute_result"
    }
   ],
   "source": [
    "m = pipeline.fit(train)\n",
    "evaluator.evaluate(m.transform(train))"
   ]
  },
  {
   "cell_type": "code",
   "execution_count": null,
   "metadata": {
    "collapsed": true
   },
   "outputs": [],
   "source": [
    "from pyspark.ml.tuning import CrossValidator, ParamGridBuilder\n",
    "\n",
    "output = ParamGridBuilder().build()\n",
    "cv = CrossValidator(estimator = pipeline, numFolds=3, evaluator=evaluator, estimatorParamMaps=output, handleInvalid='keep')\n",
    "cvModel = cv.fit(rest_df)"
   ]
  }
 ],
 "metadata": {
  "kernelspec": {
   "display_name": "Python 3",
   "language": "python",
   "name": "python3"
  },
  "language_info": {
   "codemirror_mode": {
    "name": "ipython",
    "version": 3
   },
   "file_extension": ".py",
   "mimetype": "text/x-python",
   "name": "python",
   "nbconvert_exporter": "python",
   "pygments_lexer": "ipython3",
   "version": "3.6.3"
  }
 },
 "nbformat": 4,
 "nbformat_minor": 2
}
